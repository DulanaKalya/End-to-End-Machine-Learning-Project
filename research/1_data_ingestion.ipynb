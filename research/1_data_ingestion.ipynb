{
 "cells": [
  {
   "cell_type": "code",
   "execution_count": 1,
   "id": "1d697e33",
   "metadata": {},
   "outputs": [
    {
     "data": {
      "text/plain": [
       "'/Users/nethsarani/Desktop/DS project/End-to-End-Machine-Learning-Project/research'"
      ]
     },
     "execution_count": 1,
     "metadata": {},
     "output_type": "execute_result"
    }
   ],
   "source": [
    "import os\n",
    "%pwd"
   ]
  },
  {
   "cell_type": "code",
   "execution_count": 2,
   "id": "06257188",
   "metadata": {},
   "outputs": [
    {
     "data": {
      "text/plain": [
       "'/Users/nethsarani/Desktop/DS project/End-to-End-Machine-Learning-Project'"
      ]
     },
     "execution_count": 2,
     "metadata": {},
     "output_type": "execute_result"
    }
   ],
   "source": [
    "os.chdir('../')\n",
    "%pwd"
   ]
  },
  {
   "cell_type": "code",
   "execution_count": 3,
   "id": "f1dba070",
   "metadata": {},
   "outputs": [],
   "source": [
    "from dataclasses import dataclass\n",
    "from pathlib import Path\n",
    "\n",
    "@dataclass\n",
    "class DataIngestionConfig:\n",
    "    root_dir: Path\n",
    "    source_URL: str\n",
    "    local_data_file: Path\n",
    "    unzip_dir: Path"
   ]
  },
  {
   "cell_type": "code",
   "execution_count": 5,
   "id": "494e7a8c",
   "metadata": {},
   "outputs": [],
   "source": [
    "from src.machinelearningproject.constants import *\n",
    "from src.machinelearningproject.utils.common import read_yaml,create_directories"
   ]
  },
  {
   "cell_type": "code",
   "execution_count": 6,
   "id": "d82e1058",
   "metadata": {},
   "outputs": [],
   "source": [
    "class ConfigurationManager:\n",
    "    def __init__(self,\n",
    "                 config_filepath=CONFIG_FILE_PATH,\n",
    "                 params_filepath=PARAMS_FILE_PATH,\n",
    "                 schema_filepath=SCHEMA_FILE_PATH):\n",
    "        self.config=read_yaml(config_filepath)\n",
    "        self.params=read_yaml(params_filepath)\n",
    "        self.schema=read_yaml(schema_filepath)\n",
    "\n",
    "        create_directories([self.config.artifacts_root])\n",
    "    \n",
    "    def get_data_ingestion_config(self) -> DataIngestionConfig:\n",
    "        config=self.config.data_ingestion\n",
    "        create_directories([config.root_dir])\n",
    "\n",
    "        data_ingestion_config=DataIngestionConfig(\n",
    "            root_dir=config.root_dir,\n",
    "            source_URL=config.source_URL,\n",
    "            local_data_file=config.local_data_file,\n",
    "            unzip_dir=config.unzip_dir\n",
    "        )\n",
    "\n",
    "        return data_ingestion_config\n",
    "    \n",
    "    "
   ]
  },
  {
   "cell_type": "code",
   "execution_count": 7,
   "id": "8f25aaf3",
   "metadata": {},
   "outputs": [],
   "source": [
    "import urllib.request as request\n",
    "from src.machinelearningproject import logger\n",
    "import zipfile"
   ]
  },
  {
   "cell_type": "code",
   "execution_count": null,
   "id": "b33a923e",
   "metadata": {},
   "outputs": [],
   "source": [
    "## component-Data Ingestion\n",
    "import requests\n",
    "\n",
    "class DataIngestion:\n",
    "    def __init__(self,config:DataIngestionConfig):\n",
    "        self.config=config\n",
    "    \n",
    "    # Downloading the zip file\n",
    "    def download_file(self):\n",
    "        if not os.path.exists(self.config.local_data_file):\n",
    "            filename, headers = request.urlretrieve(\n",
    "                url = self.config.source_URL,\n",
    "                filename = self.config.local_data_file\n",
    "            )\n",
    "            logger.info(f\"{filename} download! with following info: \\n{headers}\")\n",
    "        else:\n",
    "            logger.info(f\"File already exists\")\n",
    "\n",
    "    def extract_zip_file(self):\n",
    "        \"\"\"\n",
    "        zip_file_path: str\n",
    "        Extracts the zip file into the data directory\n",
    "        Function returns None\n",
    "        \"\"\"\n",
    "        unzip_path = self.config.unzip_dir\n",
    "        os.makedirs(unzip_path, exist_ok=True)\n",
    "        with zipfile.ZipFile(self.config.local_data_file, 'r') as zip_ref:\n",
    "            zip_ref.extractall(unzip_path)\n"
   ]
  },
  {
   "cell_type": "code",
   "execution_count": 9,
   "id": "a816b79e",
   "metadata": {},
   "outputs": [
    {
     "name": "stdout",
     "output_type": "stream",
     "text": [
      "[2025-07-29 18:30:10,274: INFO: common: yaml file: config/config.yaml loaded successfully]\n",
      "[2025-07-29 18:30:10,281: INFO: common: yaml file: params.yaml loaded successfully]\n",
      "[2025-07-29 18:30:10,284: INFO: common: yaml file: schema.yaml loaded successfully]\n",
      "[2025-07-29 18:30:10,292: INFO: common: created directory at: artifacts]\n",
      "[2025-07-29 18:30:10,295: INFO: common: created directory at: artifacts/data_ingestion]\n",
      "[2025-07-29 18:30:11,721: INFO: 2408721863: artifacts/data_ingestion/data.zip download! with following info: \n",
      "Content-Type: application/zip\n",
      "X-GUploader-UploadID: ABgVH8-tmYGtr7rD_XkJfJoNzd7aHx-uyS5l5yru2J-ScflLI0I0pg5nnxVuJtnoS8XyMqoWLfnNRvs\n",
      "Expires: Tue, 29 Jul 2025 13:00:11 GMT\n",
      "Date: Tue, 29 Jul 2025 13:00:11 GMT\n",
      "Cache-Control: private, max-age=0\n",
      "Last-Modified: Sat, 15 Jan 2022 19:15:13 GMT\n",
      "ETag: \"ca04cae11b523069a5aea9625e8d811e\"\n",
      "x-goog-generation: 1642274113829133\n",
      "x-goog-metageneration: 1\n",
      "x-goog-stored-content-encoding: identity\n",
      "x-goog-stored-content-length: 21984\n",
      "x-goog-hash: crc32c=X23t7g==\n",
      "x-goog-hash: md5=ygTK4RtSMGmlrqliXo2BHg==\n",
      "x-goog-storage-class: MULTI_REGIONAL\n",
      "Accept-Ranges: bytes\n",
      "Content-Length: 21984\n",
      "Access-Control-Allow-Origin: *\n",
      "Access-Control-Expose-Headers: Content-Type\n",
      "Access-Control-Expose-Headers: User-Agent\n",
      "Server: UploadServer\n",
      "Alt-Svc: h3=\":443\"; ma=2592000,h3-29=\":443\"; ma=2592000\n",
      "Connection: close\n",
      "\n",
      "]\n"
     ]
    }
   ],
   "source": [
    "try:\n",
    "    config=ConfigurationManager()\n",
    "    data_ingestion_config=config.get_data_ingestion_config()\n",
    "    data_ingestion=DataIngestion(config=data_ingestion_config)\n",
    "    data_ingestion.download_file()\n",
    "    data_ingestion.extract_zip_file()\n",
    "except Exception as e:\n",
    "    raise e"
   ]
  }
 ],
 "metadata": {
  "kernelspec": {
   "display_name": "venv",
   "language": "python",
   "name": "python3"
  },
  "language_info": {
   "codemirror_mode": {
    "name": "ipython",
    "version": 3
   },
   "file_extension": ".py",
   "mimetype": "text/x-python",
   "name": "python",
   "nbconvert_exporter": "python",
   "pygments_lexer": "ipython3",
   "version": "3.10.0"
  }
 },
 "nbformat": 4,
 "nbformat_minor": 5
}
